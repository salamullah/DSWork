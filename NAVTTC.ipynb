{
  "nbformat": 4,
  "nbformat_minor": 0,
  "metadata": {
    "colab": {
      "name": "NAVTTC.ipynb",
      "provenance": [],
      "authorship_tag": "ABX9TyNGOCTQnvcgMSjdQJj286ew",
      "include_colab_link": true
    },
    "kernelspec": {
      "name": "python3",
      "display_name": "Python 3"
    },
    "language_info": {
      "name": "python"
    }
  },
  "cells": [
    {
      "cell_type": "markdown",
      "metadata": {
        "id": "view-in-github",
        "colab_type": "text"
      },
      "source": [
        "<a href=\"https://colab.research.google.com/github/salamullah/DSWork/blob/master/NAVTTC.ipynb\" target=\"_parent\"><img src=\"https://colab.research.google.com/assets/colab-badge.svg\" alt=\"Open In Colab\"/></a>"
      ]
    },
    {
      "cell_type": "code",
      "metadata": {
        "id": "qozpT7ds-3NO"
      },
      "source": [
        "import random"
      ],
      "execution_count": null,
      "outputs": []
    },
    {
      "cell_type": "code",
      "metadata": {
        "id": "8BhvqkH4-7sM"
      },
      "source": [
        "value= random.randint(1,1000)"
      ],
      "execution_count": null,
      "outputs": []
    },
    {
      "cell_type": "code",
      "metadata": {
        "colab": {
          "base_uri": "https://localhost:8080/"
        },
        "id": "qiIdiE9T_Om_",
        "outputId": "3c79856e-a87c-471f-8ecb-5d86f963391d"
      },
      "source": [
        "value"
      ],
      "execution_count": null,
      "outputs": [
        {
          "output_type": "execute_result",
          "data": {
            "text/plain": [
              "39"
            ]
          },
          "metadata": {
            "tags": []
          },
          "execution_count": 3
        }
      ]
    },
    {
      "cell_type": "code",
      "metadata": {
        "id": "XHlPCWL7_PTP"
      },
      "source": [
        ""
      ],
      "execution_count": null,
      "outputs": []
    },
    {
      "cell_type": "markdown",
      "metadata": {
        "id": "bvF24MJ7BpWv"
      },
      "source": [
        "**How to take Input from the User**"
      ]
    },
    {
      "cell_type": "code",
      "metadata": {
        "colab": {
          "base_uri": "https://localhost:8080/"
        },
        "id": "P6w6rdfsBuxi",
        "outputId": "e82a3d5b-6126-4912-c85d-936dd346f3bc"
      },
      "source": [
        "Name = input(\"Enter Your Name\")\n",
        "print(\"Hello ! \", Name, \" Welcome to Colab !\")"
      ],
      "execution_count": null,
      "outputs": [
        {
          "output_type": "stream",
          "text": [
            "Enter Your NameSALAM ULLAH KHAN\n",
            "Hello !  SALAM ULLAH KHAN  Welcome to Colab !\n"
          ],
          "name": "stdout"
        }
      ]
    },
    {
      "cell_type": "code",
      "metadata": {
        "colab": {
          "base_uri": "https://localhost:8080/"
        },
        "id": "v2i5bmqaB6Sp",
        "outputId": "63f3a973-1ec3-4022-ef2b-3d8d628686d4"
      },
      "source": [
        "Number1= float(input(\"Enter First Number\"))\n",
        "Number2= float(input(\"\\nEnter Second Number\"))\n",
        "Addition= Number1+Number2\n",
        "Subtraction= Number1-Number2\n",
        "print(\"Addition is..\", Addition)\n",
        "print(\"Subtraction is..\", Subtraction)\n"
      ],
      "execution_count": null,
      "outputs": [
        {
          "output_type": "stream",
          "text": [
            "Enter First Number500\n",
            "\n",
            "Enter Second Number325\n",
            "Addition is.. 825.0\n",
            "Subtraction is.. 175.0\n"
          ],
          "name": "stdout"
        }
      ]
    },
    {
      "cell_type": "markdown",
      "metadata": {
        "id": "LbXvPfXGDN4v"
      },
      "source": [
        ""
      ]
    },
    {
      "cell_type": "code",
      "metadata": {
        "id": "nsvntPohOOKq"
      },
      "source": [
        ""
      ],
      "execution_count": 4,
      "outputs": []
    },
    {
      "cell_type": "markdown",
      "metadata": {
        "id": "0Fz4n_BnS-l1"
      },
      "source": [
        "# Condition Checking using If-Else"
      ]
    },
    {
      "cell_type": "code",
      "metadata": {
        "colab": {
          "base_uri": "https://localhost:8080/"
        },
        "id": "ZWCEcMy2NqpC",
        "outputId": "9a650e1b-38c9-4c59-cab8-894de5e08a04"
      },
      "source": [
        "a= int(input(\"Enter a Value...\"))\n",
        "if a==100:\n",
        "  print(\"Equal to 100\")\n",
        "elif a>100:\n",
        "  print(\"Greater than 100\")\n",
        "else:\n",
        "  print(\"Less than 100\")"
      ],
      "execution_count": 5,
      "outputs": [
        {
          "output_type": "stream",
          "text": [
            "Enter a Value...50\n",
            "Less than 100\n"
          ],
          "name": "stdout"
        }
      ]
    }
  ]
}